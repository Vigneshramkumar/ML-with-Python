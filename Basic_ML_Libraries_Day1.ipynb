{
 "cells": [
  {
   "cell_type": "markdown",
   "metadata": {},
   "source": [
    "# Numpy"
   ]
  },
  {
   "cell_type": "code",
   "execution_count": 5,
   "metadata": {
    "collapsed": false
   },
   "outputs": [
    {
     "name": "stdout",
     "output_type": "stream",
     "text": [
      "Numpy version is 1.11.1\n"
     ]
    }
   ],
   "source": [
    "#Numpy is a library in Pyrhon for storing Matrices and manipulating matrix data.\n",
    "#Using Numpy we can add, subtract, multiply the matrix data\n",
    "#Matrix can contain data only from the same data type\n",
    "\n",
    "# Import the numpy library to your program\n",
    "import numpy\n",
    "print(\"Numpy version is {}\".format(numpy.__version__))  #Use the version method for getting the numpy version in your system"
   ]
  },
  {
   "cell_type": "code",
   "execution_count": 8,
   "metadata": {
    "collapsed": false
   },
   "outputs": [
    {
     "name": "stdout",
     "output_type": "stream",
     "text": [
      "[1 2 3]\n",
      "(3,)\n"
     ]
    }
   ],
   "source": [
    "import numpy                      # Importing the numpy library\n",
    "# Numpy provides an N-Dimensional object which describes the collection of items with the same type\n",
    "# Basically the data set contains large number of independent entities. If all the values are of same data type we can use the\n",
    "# array object in numpy\n",
    "mylist = [1,2,3]                  # Matrix data\n",
    "myarray = numpy.array(mylist)     # Setting the matrix data to numpy\n",
    "print(myarray)                    # Print the data\n",
    "print(myarray.shape)              # Display the number of rows and cloumns in the matrix"
   ]
  },
  {
   "cell_type": "code",
   "execution_count": 52,
   "metadata": {
    "collapsed": false
   },
   "outputs": [
    {
     "name": "stdout",
     "output_type": "stream",
     "text": [
      "[[ 2  3  5]\n",
      " [ 6  7  8]\n",
      " [12 14 15]]\n",
      "(3, 3)\n",
      "First row: [2 3 5]\n",
      "Last row: [12 14 15]\n",
      "Specific row and column value: 6\n",
      "Accessing Full Column : [ 3  7 14]\n"
     ]
    }
   ],
   "source": [
    "list1 = [[2,3,5],[6,7,8],[12,14,15]]\n",
    "myarray = numpy.array(list1)         #Assigning the array\n",
    "print(myarray)\n",
    "print(myarray.shape)\n",
    "print(\"First row: {}\".format(myarray[0]))  #Accessing the first elemet\n",
    "print(\"Last row: {}\".format(myarray[-1]))  #Accessing the last element with -1 and second last as -2 and so on\n",
    "# Accessing a specific row and column\n",
    "print(\"Specific row and column value: {}\".format(myarray[1,0])) \n",
    "# Accessing a whole column\n",
    "print(\"Accessing Full Column : {}\".format(myarray[:,1]))"
   ]
  },
  {
   "cell_type": "code",
   "execution_count": 9,
   "metadata": {
    "collapsed": false
   },
   "outputs": [
    {
     "name": "stdout",
     "output_type": "stream",
     "text": [
      "Addition: [3 3 3]\n",
      "Multiplication: [2 2 2]\n"
     ]
    }
   ],
   "source": [
    "# arithmetic operations\n",
    "myarray1 = numpy.array([1,1,1])\n",
    "myarray2 = numpy.array([2,2,2])\n",
    "print(\"Addition: {}\".format(myarray1 + myarray2))\n",
    "print(\"Multiplication: {}\".format(myarray1 * myarray2))"
   ]
  },
  {
   "cell_type": "code",
   "execution_count": 40,
   "metadata": {
    "collapsed": false
   },
   "outputs": [
    {
     "name": "stdout",
     "output_type": "stream",
     "text": [
      "5\n",
      "(3, 3)\n"
     ]
    }
   ],
   "source": [
    "# Two dimensional Data\n",
    "mylist = [[1,2,3],[2,3,4],[3,4,5]] #2D array\n",
    "myarray = numpy.array(mylist)      #assigning the array     \n",
    "print(myarray[2,2])                #Accessing the values in 2D array\n",
    "print(myarray.shape)               #Display the array shape"
   ]
  },
  {
   "cell_type": "code",
   "execution_count": 37,
   "metadata": {
    "collapsed": false
   },
   "outputs": [
    {
     "name": "stdout",
     "output_type": "stream",
     "text": [
      "Specific cell value :  15\n",
      "(2, 3, 3)\n"
     ]
    }
   ],
   "source": [
    "# Three Dimensional Data\n",
    "mylist = [[[1,2,3,4],[2,3,4,1],[3,4,5,2],[4,5,6,1]],[[6,7,8,8],[5,9,0,6],[12,14,15,4],[1,2,3,3]]] #3D array\n",
    "myarray2 = numpy.array(mylist)                   #assigning the array\n",
    "print(\"Specific cell value : \",myarray[1,2,2])   #Accessing the values in 3D array\n",
    "print(myarray.shape)                             #Display the array shape"
   ]
  },
  {
   "cell_type": "markdown",
   "metadata": {},
   "source": [
    "### Matplotlib"
   ]
  },
  {
   "cell_type": "code",
   "execution_count": 45,
   "metadata": {
    "collapsed": false
   },
   "outputs": [
    {
     "data": {
      "image/png": "[encoded data removed]",
      "text/plain": [
       "<matplotlib.figure.Figure at 0xe9a21a9198>"
      ]
     },
     "metadata": {},
     "output_type": "display_data"
    }
   ],
   "source": [
    "#Matplotlib is used for plotting graphs and diagrams in python.\n",
    "import numpy                     #Import numpy library\n",
    "import matplotlib.pyplot as plt  #Import pyplot method from matplotlib library and give alias name as plt for ease the coding\n",
    "list1 = [1,2,3]\n",
    "list2 = [2,3,4]\n",
    "#Assigning the array data to numpy\n",
    "myarray1 = numpy.array(list1)  \n",
    "myarray2 = numpy.array(list2)\n",
    "#Plot basic graph using pyplot method\n",
    "plt.plot(myarray1,myarray2)\n",
    "# Give X and Y axis label for displying in Graph\n",
    "plt.xlabel(\"X-axis\")\n",
    "plt.ylabel(\"Y-axis\")\n",
    "# Command to display the graph\n",
    "plt.show()"
   ]
  },
  {
   "cell_type": "code",
   "execution_count": 48,
   "metadata": {
    "collapsed": false
   },
   "outputs": [
    {
     "data": {
      "image/png": "[encoded data removed]",
      "text/plain": [
       "<matplotlib.figure.Figure at 0xe9a252f668>"
      ]
     },
     "metadata": {},
     "output_type": "display_data"
    }
   ],
   "source": [
    "# Plot Scatter graph\n",
    "import numpy                     #Import numpy library\n",
    "import matplotlib.pyplot as plt  #Import pyplot method from matplotlib library and give alias name as plt for ease the coding\n",
    "list1 = [2,3,4]\n",
    "list2 = [1,2,3]\n",
    "#Assigning the array data to numpy\n",
    "myarray1 = numpy.array(list1)  \n",
    "myarray2 = numpy.array(list2)\n",
    "#Plot scatter graph using pyplot method\n",
    "plt.scatter(myarray1,myarray2)\n",
    "# Give X and Y axis label for displying in Graph\n",
    "plt.xlabel(\"X-axis\")\n",
    "plt.ylabel(\"Y-axis\")\n",
    "# Command to display the graph\n",
    "plt.show()"
   ]
  }
 ],
 "metadata": {
  "kernelspec": {
   "display_name": "Python [default]",
   "language": "python",
   "name": "python3"
  },
  "language_info": {
   "codemirror_mode": {
    "name": "ipython",
    "version": 3
   },
   "file_extension": ".py",
   "mimetype": "text/x-python",
   "name": "python",
   "nbconvert_exporter": "python",
   "pygments_lexer": "ipython3",
   "version": "3.5.2"
  }
 },
 "nbformat": 4,
 "nbformat_minor": 1
}
